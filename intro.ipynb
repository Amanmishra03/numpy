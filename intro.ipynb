{
 "cells": [
  {
   "cell_type": "markdown",
   "metadata": {},
   "source": [
    "What is NumPy\n",
    "\n",
    "NumPy stands for numeric python which is a python package for thecomputation and processing of the multidimensional and singledimensional array elements."
   ]
  },
  {
   "cell_type": "code",
   "execution_count": 13,
   "metadata": {},
   "outputs": [],
   "source": [
    "import numpy as np"
   ]
  },
  {
   "cell_type": "code",
   "execution_count": 14,
   "metadata": {},
   "outputs": [
    {
     "name": "stdout",
     "output_type": "stream",
     "text": [
      "[ 3  6 37  7]\n",
      "3\n",
      "(4,)\n",
      "int32\n"
     ]
    }
   ],
   "source": [
    "myarr = np.array([3,6,37,7])\n",
    "print(myarr)\n",
    "print(myarr[0])\n",
    "print(myarr.shape)\n",
    "print(myarr.dtype)"
   ]
  },
  {
   "cell_type": "code",
   "execution_count": 15,
   "metadata": {},
   "outputs": [
    {
     "ename": "IndexError",
     "evalue": "too many indices for array: array is 1-dimensional, but 2 were indexed",
     "output_type": "error",
     "traceback": [
      "\u001b[1;31m---------------------------------------------------------------------------\u001b[0m",
      "\u001b[1;31mIndexError\u001b[0m                                Traceback (most recent call last)",
      "\u001b[1;32md:\\Programming\\numpy\\intro.ipynb Cell 4\u001b[0m line \u001b[0;36m1\n\u001b[1;32m----> <a href='vscode-notebook-cell:/d%3A/Programming/numpy/intro.ipynb#W3sZmlsZQ%3D%3D?line=0'>1</a>\u001b[0m myarr[\u001b[39m0\u001b[39m,\u001b[39m1\u001b[39m]\n",
      "\u001b[1;31mIndexError\u001b[0m: too many indices for array: array is 1-dimensional, but 2 were indexed"
     ]
    }
   ],
   "source": [
    "myarr[0,1]"
   ]
  },
  {
   "cell_type": "code",
   "execution_count": null,
   "metadata": {},
   "outputs": [],
   "source": [
    "myarr1 = np.array([[3,6,37,7]])\n",
    "print(myarr1[0,1])\n",
    "print(myarr1[0])\n",
    "\n",
    "\n"
   ]
  },
  {
   "cell_type": "code",
   "execution_count": null,
   "metadata": {},
   "outputs": [],
   "source": [
    "print(myarr1.shape)\n",
    "print(myarr1.dtype)"
   ]
  },
  {
   "cell_type": "code",
   "execution_count": 1,
   "metadata": {},
   "outputs": [
    {
     "ename": "NameError",
     "evalue": "name 'myarr1' is not defined",
     "output_type": "error",
     "traceback": [
      "\u001b[1;31m---------------------------------------------------------------------------\u001b[0m",
      "\u001b[1;31mNameError\u001b[0m                                 Traceback (most recent call last)",
      "\u001b[1;32md:\\Programming\\numpy\\intro.ipynb Cell 7\u001b[0m line \u001b[0;36m1\n\u001b[1;32m----> <a href='vscode-notebook-cell:/d%3A/Programming/numpy/intro.ipynb#W6sZmlsZQ%3D%3D?line=0'>1</a>\u001b[0m myarr1[\u001b[39m0\u001b[39m,\u001b[39m1\u001b[39m] \u001b[39m=\u001b[39m \u001b[39m45\u001b[39m\n\u001b[0;32m      <a href='vscode-notebook-cell:/d%3A/Programming/numpy/intro.ipynb#W6sZmlsZQ%3D%3D?line=1'>2</a>\u001b[0m myarr1\n",
      "\u001b[1;31mNameError\u001b[0m: name 'myarr1' is not defined"
     ]
    }
   ],
   "source": [
    "myarr1[0,1] = 45\n",
    "myarr1"
   ]
  }
 ],
 "metadata": {
  "kernelspec": {
   "display_name": "base",
   "language": "python",
   "name": "python3"
  },
  "language_info": {
   "codemirror_mode": {
    "name": "ipython",
    "version": 3
   },
   "file_extension": ".py",
   "mimetype": "text/x-python",
   "name": "python",
   "nbconvert_exporter": "python",
   "pygments_lexer": "ipython3",
   "version": "3.11.4"
  },
  "orig_nbformat": 4
 },
 "nbformat": 4,
 "nbformat_minor": 2
}
