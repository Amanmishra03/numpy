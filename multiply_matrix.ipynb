{
 "cells": [
  {
   "cell_type": "markdown",
   "metadata": {},
   "source": [
    "Write a NumPy program to multiply two given matrices."
   ]
  },
  {
   "cell_type": "code",
   "execution_count": 1,
   "metadata": {},
   "outputs": [],
   "source": [
    "import numpy as np"
   ]
  },
  {
   "cell_type": "code",
   "execution_count": 3,
   "metadata": {},
   "outputs": [
    {
     "name": "stdout",
     "output_type": "stream",
     "text": [
      "[[ 26  33  37]\n",
      " [ 74  87  94]\n",
      " [122 141 151]]\n"
     ]
    }
   ],
   "source": [
    "matrix_1 = np.array([[1,2,3],[4,5,6],[7,8,9]])\n",
    "matrix_2 = np.array([[9,8,7],[4,5,6],[3,5,6]])\n",
    "\n",
    "multiply = np.dot(matrix_1, matrix_2)\n",
    "print(multiply)"
   ]
  },
  {
   "cell_type": "code",
   "execution_count": 8,
   "metadata": {},
   "outputs": [
    {
     "ename": "TypeError",
     "evalue": "Field elements must be 2- or 3-tuples, got '4'",
     "output_type": "error",
     "traceback": [
      "\u001b[1;31m---------------------------------------------------------------------------\u001b[0m",
      "\u001b[1;31mTypeError\u001b[0m                                 Traceback (most recent call last)",
      "\u001b[1;32md:\\Programming\\numpy_practice\\multiply_matrix.ipynb Cell 4\u001b[0m line \u001b[0;36m1\n\u001b[1;32m----> <a href='vscode-notebook-cell:/d%3A/Programming/numpy_practice/multiply_matrix.ipynb#W3sZmlsZQ%3D%3D?line=0'>1</a>\u001b[0m matrix_1 \u001b[39m=\u001b[39m np\u001b[39m.\u001b[39marray([\u001b[39m1\u001b[39m, \u001b[39m2\u001b[39m, \u001b[39m3\u001b[39m], [\u001b[39m4\u001b[39m, \u001b[39m5\u001b[39m, \u001b[39m6\u001b[39m])\n\u001b[0;32m      <a href='vscode-notebook-cell:/d%3A/Programming/numpy_practice/multiply_matrix.ipynb#W3sZmlsZQ%3D%3D?line=1'>2</a>\u001b[0m matrix_2 \u001b[39m=\u001b[39m np\u001b[39m.\u001b[39marray([\u001b[39m9\u001b[39m, \u001b[39m8\u001b[39m, \u001b[39m7\u001b[39m], [\u001b[39m4\u001b[39m, \u001b[39m5\u001b[39m, \u001b[39m6\u001b[39m])\n\u001b[0;32m      <a href='vscode-notebook-cell:/d%3A/Programming/numpy_practice/multiply_matrix.ipynb#W3sZmlsZQ%3D%3D?line=2'>3</a>\u001b[0m result \u001b[39m=\u001b[39m np\u001b[39m.\u001b[39marray([matrix_1, matrix_2])\n",
      "\u001b[1;31mTypeError\u001b[0m: Field elements must be 2- or 3-tuples, got '4'"
     ]
    }
   ],
   "source": [
    "matrix_1 = np.array([1, 2, 3], [4, 5, 6])\n",
    "matrix_2 = np.array([9, 8, 7], [4, 5, 6])\n",
    "result = np.array([matrix_1, matrix_2])\n",
    "\n",
    "print(result)\n"
   ]
  },
  {
   "cell_type": "code",
   "execution_count": 11,
   "metadata": {},
   "outputs": [
    {
     "name": "stdout",
     "output_type": "stream",
     "text": [
      "[[17 18]\n",
      " [56 57]]\n"
     ]
    }
   ],
   "source": [
    "matrix_1 = np.array([[1, 2], [4, 5]])\n",
    "matrix_2 = np.array([[9, 8], [4, 5]])\n",
    "result = np.dot(matrix_1, matrix_2)\n",
    "print(result)\n"
   ]
  }
 ],
 "metadata": {
  "kernelspec": {
   "display_name": "base",
   "language": "python",
   "name": "python3"
  },
  "language_info": {
   "codemirror_mode": {
    "name": "ipython",
    "version": 3
   },
   "file_extension": ".py",
   "mimetype": "text/x-python",
   "name": "python",
   "nbconvert_exporter": "python",
   "pygments_lexer": "ipython3",
   "version": "3.11.4"
  }
 },
 "nbformat": 4,
 "nbformat_minor": 2
}
